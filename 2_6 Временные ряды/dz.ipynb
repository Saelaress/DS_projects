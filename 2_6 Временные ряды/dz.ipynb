{
 "cells": [
  {
   "cell_type": "code",
   "execution_count": 133,
   "metadata": {},
   "outputs": [],
   "source": [
    "import pandas as pd\n",
    "from statsmodels.tsa.seasonal import seasonal_decompose\n",
    "from statsmodels import api as sm\n",
    "from statsmodels.graphics import tsaplots\n",
    "\n",
    "from sklearn.model_selection import train_test_split\n",
    "from sklearn.metrics import mean_absolute_error\n",
    "from sklearn.linear_model import LinearRegression\n",
    "from sklearn.preprocessing import StandardScaler\n",
    "import matplotlib.pyplot as plt"
   ]
  },
  {
   "cell_type": "code",
   "execution_count": 134,
   "metadata": {},
   "outputs": [
    {
     "data": {
      "text/html": [
       "<div>\n",
       "<style scoped>\n",
       "    .dataframe tbody tr th:only-of-type {\n",
       "        vertical-align: middle;\n",
       "    }\n",
       "\n",
       "    .dataframe tbody tr th {\n",
       "        vertical-align: top;\n",
       "    }\n",
       "\n",
       "    .dataframe thead th {\n",
       "        text-align: right;\n",
       "    }\n",
       "</style>\n",
       "<table border=\"1\" class=\"dataframe\">\n",
       "  <thead>\n",
       "    <tr style=\"text-align: right;\">\n",
       "      <th></th>\n",
       "      <th>Month</th>\n",
       "      <th>#Passengers</th>\n",
       "    </tr>\n",
       "  </thead>\n",
       "  <tbody>\n",
       "    <tr>\n",
       "      <th>0</th>\n",
       "      <td>1949-01</td>\n",
       "      <td>112</td>\n",
       "    </tr>\n",
       "    <tr>\n",
       "      <th>1</th>\n",
       "      <td>1949-02</td>\n",
       "      <td>118</td>\n",
       "    </tr>\n",
       "    <tr>\n",
       "      <th>2</th>\n",
       "      <td>1949-03</td>\n",
       "      <td>132</td>\n",
       "    </tr>\n",
       "    <tr>\n",
       "      <th>3</th>\n",
       "      <td>1949-04</td>\n",
       "      <td>129</td>\n",
       "    </tr>\n",
       "    <tr>\n",
       "      <th>4</th>\n",
       "      <td>1949-05</td>\n",
       "      <td>121</td>\n",
       "    </tr>\n",
       "    <tr>\n",
       "      <th>5</th>\n",
       "      <td>1949-06</td>\n",
       "      <td>135</td>\n",
       "    </tr>\n",
       "    <tr>\n",
       "      <th>6</th>\n",
       "      <td>1949-07</td>\n",
       "      <td>148</td>\n",
       "    </tr>\n",
       "    <tr>\n",
       "      <th>7</th>\n",
       "      <td>1949-08</td>\n",
       "      <td>148</td>\n",
       "    </tr>\n",
       "    <tr>\n",
       "      <th>8</th>\n",
       "      <td>1949-09</td>\n",
       "      <td>136</td>\n",
       "    </tr>\n",
       "    <tr>\n",
       "      <th>9</th>\n",
       "      <td>1949-10</td>\n",
       "      <td>119</td>\n",
       "    </tr>\n",
       "    <tr>\n",
       "      <th>10</th>\n",
       "      <td>1949-11</td>\n",
       "      <td>104</td>\n",
       "    </tr>\n",
       "    <tr>\n",
       "      <th>11</th>\n",
       "      <td>1949-12</td>\n",
       "      <td>118</td>\n",
       "    </tr>\n",
       "    <tr>\n",
       "      <th>12</th>\n",
       "      <td>1950-01</td>\n",
       "      <td>115</td>\n",
       "    </tr>\n",
       "    <tr>\n",
       "      <th>13</th>\n",
       "      <td>1950-02</td>\n",
       "      <td>126</td>\n",
       "    </tr>\n",
       "    <tr>\n",
       "      <th>14</th>\n",
       "      <td>1950-03</td>\n",
       "      <td>141</td>\n",
       "    </tr>\n",
       "    <tr>\n",
       "      <th>15</th>\n",
       "      <td>1950-04</td>\n",
       "      <td>135</td>\n",
       "    </tr>\n",
       "    <tr>\n",
       "      <th>16</th>\n",
       "      <td>1950-05</td>\n",
       "      <td>125</td>\n",
       "    </tr>\n",
       "    <tr>\n",
       "      <th>17</th>\n",
       "      <td>1950-06</td>\n",
       "      <td>149</td>\n",
       "    </tr>\n",
       "    <tr>\n",
       "      <th>18</th>\n",
       "      <td>1950-07</td>\n",
       "      <td>170</td>\n",
       "    </tr>\n",
       "    <tr>\n",
       "      <th>19</th>\n",
       "      <td>1950-08</td>\n",
       "      <td>170</td>\n",
       "    </tr>\n",
       "  </tbody>\n",
       "</table>\n",
       "</div>"
      ],
      "text/plain": [
       "      Month  #Passengers\n",
       "0   1949-01          112\n",
       "1   1949-02          118\n",
       "2   1949-03          132\n",
       "3   1949-04          129\n",
       "4   1949-05          121\n",
       "5   1949-06          135\n",
       "6   1949-07          148\n",
       "7   1949-08          148\n",
       "8   1949-09          136\n",
       "9   1949-10          119\n",
       "10  1949-11          104\n",
       "11  1949-12          118\n",
       "12  1950-01          115\n",
       "13  1950-02          126\n",
       "14  1950-03          141\n",
       "15  1950-04          135\n",
       "16  1950-05          125\n",
       "17  1950-06          149\n",
       "18  1950-07          170\n",
       "19  1950-08          170"
      ]
     },
     "metadata": {},
     "output_type": "display_data"
    }
   ],
   "source": [
    "data = pd.read_csv(\"AirPassengers.csv\")\n",
    "display(data.head(20))"
   ]
  },
  {
   "cell_type": "code",
   "execution_count": 135,
   "metadata": {},
   "outputs": [
    {
     "name": "stdout",
     "output_type": "stream",
     "text": [
      "<class 'pandas.core.frame.DataFrame'>\n",
      "RangeIndex: 144 entries, 0 to 143\n",
      "Data columns (total 2 columns):\n",
      " #   Column       Non-Null Count  Dtype \n",
      "---  ------       --------------  ----- \n",
      " 0   Month        144 non-null    object\n",
      " 1   #Passengers  144 non-null    int64 \n",
      "dtypes: int64(1), object(1)\n",
      "memory usage: 2.4+ KB\n"
     ]
    }
   ],
   "source": [
    "data.info()"
   ]
  },
  {
   "cell_type": "code",
   "execution_count": 136,
   "metadata": {},
   "outputs": [],
   "source": [
    "data['Month'] = pd.to_datetime(data['Month'], format=\"%Y.%m.\")"
   ]
  },
  {
   "cell_type": "code",
   "execution_count": 137,
   "metadata": {},
   "outputs": [
    {
     "name": "stdout",
     "output_type": "stream",
     "text": [
      "<class 'pandas.core.frame.DataFrame'>\n",
      "RangeIndex: 144 entries, 0 to 143\n",
      "Data columns (total 2 columns):\n",
      " #   Column       Non-Null Count  Dtype         \n",
      "---  ------       --------------  -----         \n",
      " 0   Month        144 non-null    datetime64[ns]\n",
      " 1   #Passengers  144 non-null    int64         \n",
      "dtypes: datetime64[ns](1), int64(1)\n",
      "memory usage: 2.4 KB\n"
     ]
    }
   ],
   "source": [
    "data.info()"
   ]
  },
  {
   "cell_type": "code",
   "execution_count": 138,
   "metadata": {},
   "outputs": [],
   "source": [
    "data.set_index('Month', inplace=True)"
   ]
  },
  {
   "cell_type": "code",
   "execution_count": 139,
   "metadata": {},
   "outputs": [
    {
     "data": {
      "text/plain": [
       "True"
      ]
     },
     "execution_count": 139,
     "metadata": {},
     "output_type": "execute_result"
    }
   ],
   "source": [
    "data.index.is_monotonic_increasing"
   ]
  },
  {
   "cell_type": "markdown",
   "metadata": {},
   "source": [
    "Оставим только данные с 1952 по 1957 год включительно"
   ]
  },
  {
   "cell_type": "code",
   "execution_count": 140,
   "metadata": {},
   "outputs": [
    {
     "name": "stdout",
     "output_type": "stream",
     "text": [
      "1952-01-01 00:00:00 1957-12-01 00:00:00\n"
     ]
    }
   ],
   "source": [
    "data1 = data['1952':'1957']\n",
    "print(data1.index.min(), data1.index.max())"
   ]
  },
  {
   "cell_type": "markdown",
   "metadata": {},
   "source": [
    "Реализуйте разложение на компоненты тренда и сезонности. Визуализируйте результат разложения и сделайте выводы."
   ]
  },
  {
   "cell_type": "code",
   "execution_count": 141,
   "metadata": {},
   "outputs": [],
   "source": [
    "decomposed = seasonal_decompose(data1['#Passengers'])"
   ]
  },
  {
   "cell_type": "code",
   "execution_count": 142,
   "metadata": {},
   "outputs": [
    {
     "data": {
      "image/png": "[encoded data removed]",
      "text/plain": [
       "<Figure size 1200x500 with 1 Axes>"
      ]
     },
     "metadata": {},
     "output_type": "display_data"
    }
   ],
   "source": [
    "fig, ax = plt.subplots(1, 1, figsize=[12, 5])\n",
    "\n",
    "ax.plot(data1['#Passengers'], c='indianred', linewidth=0.5, linestyle='--')\n",
    "ax.plot(decomposed.trend, c='darkslateblue', label='Trend')\n",
    "ax.plot(decomposed.seasonal, c='forestgreen', label='Seasonal')\n",
    "ax.plot(decomposed.resid, c='darkgoldenrod', label='Residual')\n",
    "ax.set_ylabel('#Passengers')\n",
    "\n",
    "fig.legend();"
   ]
  },
  {
   "cell_type": "markdown",
   "metadata": {},
   "source": [
    "Есть ли тренд?\n",
    "- На графике видно, что тренд имеется\n",
    "\n",
    "Есть ли сезонность и какая она (ежемесячная/ежеквартальная/ежегодная и т.д.)?\n",
    "- Сезонность ежегодная\n",
    "\n",
    "Является ли ряд стационарным и почему?\n",
    "- Ряд нестационарный, поскольку есть тренд"
   ]
  },
  {
   "cell_type": "code",
   "execution_count": 143,
   "metadata": {},
   "outputs": [
    {
     "data": {
      "text/plain": [
       "(72,)"
      ]
     },
     "execution_count": 143,
     "metadata": {},
     "output_type": "execute_result"
    }
   ],
   "source": [
    "data1['#Passengers'].shape"
   ]
  },
  {
   "cell_type": "markdown",
   "metadata": {},
   "source": [
    "Постройте график, чтобы оценить автокорреляцию и сделайте выводы"
   ]
  },
  {
   "cell_type": "code",
   "execution_count": 144,
   "metadata": {},
   "outputs": [
    {
     "data": {
      "text/plain": [
       "(19,)"
      ]
     },
     "execution_count": 144,
     "metadata": {},
     "output_type": "execute_result"
    }
   ],
   "source": [
    "acf = sm.tsa.acf(data1['#Passengers'])\n",
    "acf.shape"
   ]
  },
  {
   "cell_type": "code",
   "execution_count": 145,
   "metadata": {},
   "outputs": [
    {
     "data": {
      "image/png": "[encoded data removed]",
      "text/plain": [
       "<Figure size 640x480 with 1 Axes>"
      ]
     },
     "metadata": {},
     "output_type": "display_data"
    }
   ],
   "source": [
    "fig = tsaplots.plot_acf(data1['#Passengers'])\n",
    "plt.show()"
   ]
  },
  {
   "cell_type": "markdown",
   "metadata": {},
   "source": [
    "У какого сдвига самая высокая автокорреляция?\n",
    "- Самая большая автокорреляция приходится на отсечку 1\n",
    "\n",
    "Подтверждаются ли выводы о наличии тренда графиком автокорреляции?\n",
    "- Автокорреляция на графике выше нуля, что говорит о наличии положительного тренда\n",
    "\n",
    "- На отсечку 12 приходится большая автокорреляция, во временном ряду имеется ежегодная сезонность"
   ]
  },
  {
   "cell_type": "markdown",
   "metadata": {},
   "source": [
    "Подготовьте данные к обучению линейной модели\n",
    "\n",
    "Напишите функцию, которая будет генерировать новые признаки (календарные признаки, несколько колонок с разными сдвигами, несколько колонок с разными скользящими средними)"
   ]
  },
  {
   "cell_type": "code",
   "execution_count": 146,
   "metadata": {},
   "outputs": [],
   "source": [
    "def make_features(data, max_lag, rolling_mean_size):\n",
    "    data['year'] = data.index.year\n",
    "    data['month'] = data.index.month\n",
    "    data['quarter'] = data.index.quarter\n",
    "    \n",
    "    for i in range(1, max_lag + 1):\n",
    "        data[f'lag_{i}'] = data['#Passengers'].shift(i)\n",
    "        \n",
    "    data['rolling_mean'] = data['#Passengers'].rolling(rolling_mean_size).mean()\n",
    "    data['rolling_mean'] = data['rolling_mean'].shift(1)\n",
    "    \n",
    "    return data"
   ]
  },
  {
   "cell_type": "markdown",
   "metadata": {},
   "source": [
    "Рассчитайте новые признаки с помощью реализованной функции, подав ей на вход произвольные параметры генерации новых признаков.\n",
    "\n",
    "Удалите наблюдения с пропусками в новых переменных.\n",
    "\n",
    "Разделите данные на признаки и целевую переменную.\n",
    "\n",
    "Разделите данные на обучающую и валидационную части. Не забудьте, что валидационная часть должна идти строго после обучающей."
   ]
  },
  {
   "cell_type": "code",
   "execution_count": 147,
   "metadata": {},
   "outputs": [
    {
     "data": {
      "text/html": [
       "<div>\n",
       "<style scoped>\n",
       "    .dataframe tbody tr th:only-of-type {\n",
       "        vertical-align: middle;\n",
       "    }\n",
       "\n",
       "    .dataframe tbody tr th {\n",
       "        vertical-align: top;\n",
       "    }\n",
       "\n",
       "    .dataframe thead th {\n",
       "        text-align: right;\n",
       "    }\n",
       "</style>\n",
       "<table border=\"1\" class=\"dataframe\">\n",
       "  <thead>\n",
       "    <tr style=\"text-align: right;\">\n",
       "      <th></th>\n",
       "      <th>#Passengers</th>\n",
       "      <th>year</th>\n",
       "      <th>month</th>\n",
       "      <th>quarter</th>\n",
       "      <th>lag_1</th>\n",
       "      <th>lag_2</th>\n",
       "      <th>lag_3</th>\n",
       "      <th>lag_4</th>\n",
       "      <th>lag_5</th>\n",
       "      <th>lag_6</th>\n",
       "      <th>lag_7</th>\n",
       "      <th>lag_8</th>\n",
       "      <th>lag_9</th>\n",
       "      <th>lag_10</th>\n",
       "      <th>rolling_mean</th>\n",
       "    </tr>\n",
       "    <tr>\n",
       "      <th>Month</th>\n",
       "      <th></th>\n",
       "      <th></th>\n",
       "      <th></th>\n",
       "      <th></th>\n",
       "      <th></th>\n",
       "      <th></th>\n",
       "      <th></th>\n",
       "      <th></th>\n",
       "      <th></th>\n",
       "      <th></th>\n",
       "      <th></th>\n",
       "      <th></th>\n",
       "      <th></th>\n",
       "      <th></th>\n",
       "      <th></th>\n",
       "    </tr>\n",
       "  </thead>\n",
       "  <tbody>\n",
       "    <tr>\n",
       "      <th>1952-01-01</th>\n",
       "      <td>171</td>\n",
       "      <td>1952</td>\n",
       "      <td>1</td>\n",
       "      <td>1</td>\n",
       "      <td>NaN</td>\n",
       "      <td>NaN</td>\n",
       "      <td>NaN</td>\n",
       "      <td>NaN</td>\n",
       "      <td>NaN</td>\n",
       "      <td>NaN</td>\n",
       "      <td>NaN</td>\n",
       "      <td>NaN</td>\n",
       "      <td>NaN</td>\n",
       "      <td>NaN</td>\n",
       "      <td>NaN</td>\n",
       "    </tr>\n",
       "    <tr>\n",
       "      <th>1952-02-01</th>\n",
       "      <td>180</td>\n",
       "      <td>1952</td>\n",
       "      <td>2</td>\n",
       "      <td>1</td>\n",
       "      <td>171.0</td>\n",
       "      <td>NaN</td>\n",
       "      <td>NaN</td>\n",
       "      <td>NaN</td>\n",
       "      <td>NaN</td>\n",
       "      <td>NaN</td>\n",
       "      <td>NaN</td>\n",
       "      <td>NaN</td>\n",
       "      <td>NaN</td>\n",
       "      <td>NaN</td>\n",
       "      <td>NaN</td>\n",
       "    </tr>\n",
       "    <tr>\n",
       "      <th>1952-03-01</th>\n",
       "      <td>193</td>\n",
       "      <td>1952</td>\n",
       "      <td>3</td>\n",
       "      <td>1</td>\n",
       "      <td>180.0</td>\n",
       "      <td>171.0</td>\n",
       "      <td>NaN</td>\n",
       "      <td>NaN</td>\n",
       "      <td>NaN</td>\n",
       "      <td>NaN</td>\n",
       "      <td>NaN</td>\n",
       "      <td>NaN</td>\n",
       "      <td>NaN</td>\n",
       "      <td>NaN</td>\n",
       "      <td>NaN</td>\n",
       "    </tr>\n",
       "    <tr>\n",
       "      <th>1952-04-01</th>\n",
       "      <td>181</td>\n",
       "      <td>1952</td>\n",
       "      <td>4</td>\n",
       "      <td>2</td>\n",
       "      <td>193.0</td>\n",
       "      <td>180.0</td>\n",
       "      <td>171.0</td>\n",
       "      <td>NaN</td>\n",
       "      <td>NaN</td>\n",
       "      <td>NaN</td>\n",
       "      <td>NaN</td>\n",
       "      <td>NaN</td>\n",
       "      <td>NaN</td>\n",
       "      <td>NaN</td>\n",
       "      <td>181.333333</td>\n",
       "    </tr>\n",
       "    <tr>\n",
       "      <th>1952-05-01</th>\n",
       "      <td>183</td>\n",
       "      <td>1952</td>\n",
       "      <td>5</td>\n",
       "      <td>2</td>\n",
       "      <td>181.0</td>\n",
       "      <td>193.0</td>\n",
       "      <td>180.0</td>\n",
       "      <td>171.0</td>\n",
       "      <td>NaN</td>\n",
       "      <td>NaN</td>\n",
       "      <td>NaN</td>\n",
       "      <td>NaN</td>\n",
       "      <td>NaN</td>\n",
       "      <td>NaN</td>\n",
       "      <td>184.666667</td>\n",
       "    </tr>\n",
       "  </tbody>\n",
       "</table>\n",
       "</div>"
      ],
      "text/plain": [
       "            #Passengers  year  month  quarter  lag_1  lag_2  lag_3  lag_4  \\\n",
       "Month                                                                       \n",
       "1952-01-01          171  1952      1        1    NaN    NaN    NaN    NaN   \n",
       "1952-02-01          180  1952      2        1  171.0    NaN    NaN    NaN   \n",
       "1952-03-01          193  1952      3        1  180.0  171.0    NaN    NaN   \n",
       "1952-04-01          181  1952      4        2  193.0  180.0  171.0    NaN   \n",
       "1952-05-01          183  1952      5        2  181.0  193.0  180.0  171.0   \n",
       "\n",
       "            lag_5  lag_6  lag_7  lag_8  lag_9  lag_10  rolling_mean  \n",
       "Month                                                                \n",
       "1952-01-01    NaN    NaN    NaN    NaN    NaN     NaN           NaN  \n",
       "1952-02-01    NaN    NaN    NaN    NaN    NaN     NaN           NaN  \n",
       "1952-03-01    NaN    NaN    NaN    NaN    NaN     NaN           NaN  \n",
       "1952-04-01    NaN    NaN    NaN    NaN    NaN     NaN    181.333333  \n",
       "1952-05-01    NaN    NaN    NaN    NaN    NaN     NaN    184.666667  "
      ]
     },
     "execution_count": 147,
     "metadata": {},
     "output_type": "execute_result"
    }
   ],
   "source": [
    "data_with_features = make_features(data1.copy(), 10, 3)\n",
    "data_with_features.head()"
   ]
  },
  {
   "cell_type": "code",
   "execution_count": 148,
   "metadata": {},
   "outputs": [],
   "source": [
    "data_with_features = data_with_features.dropna()"
   ]
  },
  {
   "cell_type": "code",
   "execution_count": 149,
   "metadata": {},
   "outputs": [],
   "source": [
    "target_variable = \"#Passengers\"\n",
    "features = data_with_features.drop(target_variable, axis=1)\n",
    "target = data_with_features[target_variable]\n",
    "\n",
    "train_features, test_features, train_target, test_target = train_test_split(features, target, shuffle=False, test_size=0.2)"
   ]
  },
  {
   "cell_type": "markdown",
   "metadata": {},
   "source": [
    "Обучите линейную модель машинного обучения и оцените ее качество\n",
    "\n",
    "Обучите линейную модель на обучающей части данных.\n",
    "\n",
    "Рассчитайте значение метрики качества MAE на обучающей и валидационных частях. Если модель работает плохо (метрика выше 20), попробуйте выделить другой набор признаков, вызывая свою функцию с новыми параметрами.\n",
    "\n",
    "Визуализируйте реальный временной ряд и прогнозные значения. "
   ]
  },
  {
   "cell_type": "code",
   "execution_count": 150,
   "metadata": {},
   "outputs": [
    {
     "name": "stdout",
     "output_type": "stream",
     "text": [
      "MAE обучающей выборки: 11.517282982944291\n",
      "MAE тестовой выборки:  14.646608461713443\n"
     ]
    }
   ],
   "source": [
    "scaler = StandardScaler().fit(train_features)\n",
    "train_features_norm = scaler.transform(train_features)\n",
    "test_features_norm = scaler.transform(test_features)\n",
    "\n",
    "model = LinearRegression()\n",
    "model.fit(train_features_norm, train_target)\n",
    "\n",
    "train_prediction = pd.Series(model.predict(train_features_norm))\n",
    "train_prediction.index = train_features.index\n",
    "test_prediction = pd.Series(model.predict(test_features_norm))\n",
    "test_prediction.index = test_features.index\n",
    "\n",
    "print(\"MAE обучающей выборки:\", mean_absolute_error(train_target, train_prediction))\n",
    "print(\"MAE тестовой выборки: \", mean_absolute_error(test_target, test_prediction))"
   ]
  },
  {
   "cell_type": "markdown",
   "metadata": {},
   "source": [
    "Оцените качество модели на отложенной выборке. В качестве отложенной выборки у нас будут наблюдения с 1958 по 1960 год\n",
    "\n",
    "Возьмите из источника необходимый срез данных.\n",
    "\n",
    "Подготовьте данные к прогнозированию.\n",
    "\n",
    "Добавьте признаки с помощью реализованной ранее функции.\n",
    "\n",
    "Удалите наблюдения с пропусками.\n",
    "\n",
    "Если после удаления у вас осталось менее 36 наблюдений, откорректируйте срез из пункта 5.а.\n",
    "\n",
    " Отделите целевую переменную от признаков.\n",
    "\n",
    "Постройте прогноз с помощью обученной ранее линейной модели.\n",
    "\n",
    "Рассчитайте значение метрики качества на отложенной выборке.\n",
    "\n",
    "Визуализируйте реальный временной ряд и прогнозные значения.\n",
    "\n",
    "Значение метрики MAE на отложенной выборке должно быть не более 35."
   ]
  },
  {
   "cell_type": "code",
   "execution_count": 151,
   "metadata": {},
   "outputs": [
    {
     "name": "stdout",
     "output_type": "stream",
     "text": [
      "1957-01-01 00:00:00 1960-12-01 00:00:00\n"
     ]
    }
   ],
   "source": [
    "data_delayed = data['1957':'1960']\n",
    "print(data_delayed.index.min(), data_delayed.index.max())"
   ]
  },
  {
   "cell_type": "code",
   "execution_count": 152,
   "metadata": {},
   "outputs": [
    {
     "data": {
      "text/html": [
       "<div>\n",
       "<style scoped>\n",
       "    .dataframe tbody tr th:only-of-type {\n",
       "        vertical-align: middle;\n",
       "    }\n",
       "\n",
       "    .dataframe tbody tr th {\n",
       "        vertical-align: top;\n",
       "    }\n",
       "\n",
       "    .dataframe thead th {\n",
       "        text-align: right;\n",
       "    }\n",
       "</style>\n",
       "<table border=\"1\" class=\"dataframe\">\n",
       "  <thead>\n",
       "    <tr style=\"text-align: right;\">\n",
       "      <th></th>\n",
       "      <th>#Passengers</th>\n",
       "      <th>year</th>\n",
       "      <th>month</th>\n",
       "      <th>quarter</th>\n",
       "      <th>lag_1</th>\n",
       "      <th>lag_2</th>\n",
       "      <th>lag_3</th>\n",
       "      <th>lag_4</th>\n",
       "      <th>lag_5</th>\n",
       "      <th>lag_6</th>\n",
       "      <th>lag_7</th>\n",
       "      <th>lag_8</th>\n",
       "      <th>lag_9</th>\n",
       "      <th>lag_10</th>\n",
       "      <th>rolling_mean</th>\n",
       "    </tr>\n",
       "    <tr>\n",
       "      <th>Month</th>\n",
       "      <th></th>\n",
       "      <th></th>\n",
       "      <th></th>\n",
       "      <th></th>\n",
       "      <th></th>\n",
       "      <th></th>\n",
       "      <th></th>\n",
       "      <th></th>\n",
       "      <th></th>\n",
       "      <th></th>\n",
       "      <th></th>\n",
       "      <th></th>\n",
       "      <th></th>\n",
       "      <th></th>\n",
       "      <th></th>\n",
       "    </tr>\n",
       "  </thead>\n",
       "  <tbody>\n",
       "    <tr>\n",
       "      <th>1957-01-01</th>\n",
       "      <td>315</td>\n",
       "      <td>1957</td>\n",
       "      <td>1</td>\n",
       "      <td>1</td>\n",
       "      <td>NaN</td>\n",
       "      <td>NaN</td>\n",
       "      <td>NaN</td>\n",
       "      <td>NaN</td>\n",
       "      <td>NaN</td>\n",
       "      <td>NaN</td>\n",
       "      <td>NaN</td>\n",
       "      <td>NaN</td>\n",
       "      <td>NaN</td>\n",
       "      <td>NaN</td>\n",
       "      <td>NaN</td>\n",
       "    </tr>\n",
       "    <tr>\n",
       "      <th>1957-02-01</th>\n",
       "      <td>301</td>\n",
       "      <td>1957</td>\n",
       "      <td>2</td>\n",
       "      <td>1</td>\n",
       "      <td>315.0</td>\n",
       "      <td>NaN</td>\n",
       "      <td>NaN</td>\n",
       "      <td>NaN</td>\n",
       "      <td>NaN</td>\n",
       "      <td>NaN</td>\n",
       "      <td>NaN</td>\n",
       "      <td>NaN</td>\n",
       "      <td>NaN</td>\n",
       "      <td>NaN</td>\n",
       "      <td>NaN</td>\n",
       "    </tr>\n",
       "    <tr>\n",
       "      <th>1957-03-01</th>\n",
       "      <td>356</td>\n",
       "      <td>1957</td>\n",
       "      <td>3</td>\n",
       "      <td>1</td>\n",
       "      <td>301.0</td>\n",
       "      <td>315.0</td>\n",
       "      <td>NaN</td>\n",
       "      <td>NaN</td>\n",
       "      <td>NaN</td>\n",
       "      <td>NaN</td>\n",
       "      <td>NaN</td>\n",
       "      <td>NaN</td>\n",
       "      <td>NaN</td>\n",
       "      <td>NaN</td>\n",
       "      <td>NaN</td>\n",
       "    </tr>\n",
       "    <tr>\n",
       "      <th>1957-04-01</th>\n",
       "      <td>348</td>\n",
       "      <td>1957</td>\n",
       "      <td>4</td>\n",
       "      <td>2</td>\n",
       "      <td>356.0</td>\n",
       "      <td>301.0</td>\n",
       "      <td>315.0</td>\n",
       "      <td>NaN</td>\n",
       "      <td>NaN</td>\n",
       "      <td>NaN</td>\n",
       "      <td>NaN</td>\n",
       "      <td>NaN</td>\n",
       "      <td>NaN</td>\n",
       "      <td>NaN</td>\n",
       "      <td>324.0</td>\n",
       "    </tr>\n",
       "    <tr>\n",
       "      <th>1957-05-01</th>\n",
       "      <td>355</td>\n",
       "      <td>1957</td>\n",
       "      <td>5</td>\n",
       "      <td>2</td>\n",
       "      <td>348.0</td>\n",
       "      <td>356.0</td>\n",
       "      <td>301.0</td>\n",
       "      <td>315.0</td>\n",
       "      <td>NaN</td>\n",
       "      <td>NaN</td>\n",
       "      <td>NaN</td>\n",
       "      <td>NaN</td>\n",
       "      <td>NaN</td>\n",
       "      <td>NaN</td>\n",
       "      <td>335.0</td>\n",
       "    </tr>\n",
       "  </tbody>\n",
       "</table>\n",
       "</div>"
      ],
      "text/plain": [
       "            #Passengers  year  month  quarter  lag_1  lag_2  lag_3  lag_4  \\\n",
       "Month                                                                       \n",
       "1957-01-01          315  1957      1        1    NaN    NaN    NaN    NaN   \n",
       "1957-02-01          301  1957      2        1  315.0    NaN    NaN    NaN   \n",
       "1957-03-01          356  1957      3        1  301.0  315.0    NaN    NaN   \n",
       "1957-04-01          348  1957      4        2  356.0  301.0  315.0    NaN   \n",
       "1957-05-01          355  1957      5        2  348.0  356.0  301.0  315.0   \n",
       "\n",
       "            lag_5  lag_6  lag_7  lag_8  lag_9  lag_10  rolling_mean  \n",
       "Month                                                                \n",
       "1957-01-01    NaN    NaN    NaN    NaN    NaN     NaN           NaN  \n",
       "1957-02-01    NaN    NaN    NaN    NaN    NaN     NaN           NaN  \n",
       "1957-03-01    NaN    NaN    NaN    NaN    NaN     NaN           NaN  \n",
       "1957-04-01    NaN    NaN    NaN    NaN    NaN     NaN         324.0  \n",
       "1957-05-01    NaN    NaN    NaN    NaN    NaN     NaN         335.0  "
      ]
     },
     "execution_count": 152,
     "metadata": {},
     "output_type": "execute_result"
    }
   ],
   "source": [
    "data_delayed_with_features = make_features(data_delayed.copy(), 10, 3)\n",
    "data_delayed_with_features.head()"
   ]
  },
  {
   "cell_type": "code",
   "execution_count": 153,
   "metadata": {},
   "outputs": [],
   "source": [
    "data_delayed_with_features = data_delayed_with_features.dropna()"
   ]
  },
  {
   "cell_type": "code",
   "execution_count": 154,
   "metadata": {},
   "outputs": [
    {
     "name": "stdout",
     "output_type": "stream",
     "text": [
      "<class 'pandas.core.frame.DataFrame'>\n",
      "DatetimeIndex: 38 entries, 1957-11-01 to 1960-12-01\n",
      "Data columns (total 15 columns):\n",
      " #   Column        Non-Null Count  Dtype  \n",
      "---  ------        --------------  -----  \n",
      " 0   #Passengers   38 non-null     int64  \n",
      " 1   year          38 non-null     int64  \n",
      " 2   month         38 non-null     int64  \n",
      " 3   quarter       38 non-null     int64  \n",
      " 4   lag_1         38 non-null     float64\n",
      " 5   lag_2         38 non-null     float64\n",
      " 6   lag_3         38 non-null     float64\n",
      " 7   lag_4         38 non-null     float64\n",
      " 8   lag_5         38 non-null     float64\n",
      " 9   lag_6         38 non-null     float64\n",
      " 10  lag_7         38 non-null     float64\n",
      " 11  lag_8         38 non-null     float64\n",
      " 12  lag_9         38 non-null     float64\n",
      " 13  lag_10        38 non-null     float64\n",
      " 14  rolling_mean  38 non-null     float64\n",
      "dtypes: float64(11), int64(4)\n",
      "memory usage: 4.8 KB\n"
     ]
    }
   ],
   "source": [
    "data_delayed_with_features.info()"
   ]
  },
  {
   "cell_type": "code",
   "execution_count": 155,
   "metadata": {},
   "outputs": [],
   "source": [
    "target_variable = \"#Passengers\"\n",
    "features = data_delayed_with_features.drop(target_variable, axis=1)\n",
    "target = data_delayed_with_features[target_variable]"
   ]
  },
  {
   "cell_type": "code",
   "execution_count": 156,
   "metadata": {},
   "outputs": [
    {
     "name": "stdout",
     "output_type": "stream",
     "text": [
      "MAE отложенной выборки:  24.904373629021997\n"
     ]
    }
   ],
   "source": [
    "features_norm = scaler.transform(features)\n",
    "prediction = pd.Series(model.predict(features_norm))\n",
    "prediction.index = features.index\n",
    "\n",
    "print(\"MAE отложенной выборки: \", mean_absolute_error(target, prediction))"
   ]
  },
  {
   "cell_type": "code",
   "execution_count": 157,
   "metadata": {},
   "outputs": [
    {
     "data": {
      "image/png": "[encoded data removed]",
      "text/plain": [
       "<Figure size 1200x500 with 1 Axes>"
      ]
     },
     "metadata": {},
     "output_type": "display_data"
    }
   ],
   "source": [
    "fig, ax = plt.subplots(1, 1, figsize=[12, 5])\n",
    "\n",
    "error = abs(target - prediction)\n",
    "error_mean = pd.Series([error.mean()] * error.shape[0])\n",
    "error_mean.index = target.index\n",
    "\n",
    "ax.plot(target, c='lightsteelblue', label='target')\n",
    "ax.plot(prediction, c='darkslateblue', label='prediction', linestyle='--')\n",
    "ax.plot(error, c='indianred', linestyle='--', label='prediction_error', linewidth=0.5)\n",
    "ax.plot(error_mean, c='indianred', label='prediction_error')\n",
    "\n",
    "fig.legend();"
   ]
  }
 ],
 "metadata": {
  "kernelspec": {
   "display_name": "base",
   "language": "python",
   "name": "python3"
  },
  "language_info": {
   "codemirror_mode": {
    "name": "ipython",
    "version": 3
   },
   "file_extension": ".py",
   "mimetype": "text/x-python",
   "name": "python",
   "nbconvert_exporter": "python",
   "pygments_lexer": "ipython3",
   "version": "3.10.9"
  }
 },
 "nbformat": 4,
 "nbformat_minor": 2
}

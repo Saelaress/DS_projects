{
 "cells": [
  {
   "cell_type": "markdown",
   "metadata": {},
   "source": [
    "В рамках этого итогового задания мы будем прогнозировать сердечную недостаточность.\n",
    "https://www.kaggle.com/datasets/fedesoriano/heart-failure-prediction\n",
    "\n",
    "оберните весь конвейер преобразований в Pipeline\n",
    "\n",
    "подберите оптимальный вариант прогнозной модели с помощью GridSearchCV\n",
    "\n",
    "примените обученный на тренировочных данных конвейер к тестовым данным, никак не предобрабатывая их, а лишь загрузив из файла и отделив целевой признак от остальных\n",
    "\n",
    "получите на тестовой части качество не ниже 0.87 по метрике ROCAUC"
   ]
  },
  {
   "cell_type": "code",
   "execution_count": 1,
   "metadata": {},
   "outputs": [],
   "source": [
    "import pandas as pd\n",
    "import dill as pickle\n",
    "import requests\n",
    "import json\n",
    "import warnings\n",
    "from sklearn.model_selection import GridSearchCV\n",
    "from sklearn.preprocessing import StandardScaler\n",
    "from sklearn.tree import DecisionTreeClassifier\n",
    "from sklearn.linear_model import LogisticRegression\n",
    "from sklearn.metrics import roc_auc_score\n",
    "from sklearn.pipeline import Pipeline\n",
    "from sklearn.base import TransformerMixin, BaseEstimator\n",
    "from sklearn.impute import SimpleImputer\n",
    "from sklearn.ensemble import RandomForestClassifier\n",
    "from sklearn.ensemble import GradientBoostingClassifier\n",
    "\n",
    "pd.set_option('display.max_columns', 50)"
   ]
  },
  {
   "cell_type": "markdown",
   "metadata": {},
   "source": [
    "Подгружаем данные и изучаем их "
   ]
  },
  {
   "cell_type": "code",
   "execution_count": 2,
   "metadata": {},
   "outputs": [
    {
     "data": {
      "text/html": [
       "<div>\n",
       "<style scoped>\n",
       "    .dataframe tbody tr th:only-of-type {\n",
       "        vertical-align: middle;\n",
       "    }\n",
       "\n",
       "    .dataframe tbody tr th {\n",
       "        vertical-align: top;\n",
       "    }\n",
       "\n",
       "    .dataframe thead th {\n",
       "        text-align: right;\n",
       "    }\n",
       "</style>\n",
       "<table border=\"1\" class=\"dataframe\">\n",
       "  <thead>\n",
       "    <tr style=\"text-align: right;\">\n",
       "      <th></th>\n",
       "      <th>Age</th>\n",
       "      <th>Sex</th>\n",
       "      <th>ChestPainType</th>\n",
       "      <th>RestingBP</th>\n",
       "      <th>Cholesterol</th>\n",
       "      <th>FastingBS</th>\n",
       "      <th>RestingECG</th>\n",
       "      <th>MaxHR</th>\n",
       "      <th>ExerciseAngina</th>\n",
       "      <th>Oldpeak</th>\n",
       "      <th>ST_Slope</th>\n",
       "      <th>HeartDisease</th>\n",
       "    </tr>\n",
       "  </thead>\n",
       "  <tbody>\n",
       "    <tr>\n",
       "      <th>0</th>\n",
       "      <td>74.0</td>\n",
       "      <td>M</td>\n",
       "      <td>NAP</td>\n",
       "      <td>138.0</td>\n",
       "      <td>NaN</td>\n",
       "      <td>0</td>\n",
       "      <td>Normal</td>\n",
       "      <td>116</td>\n",
       "      <td>N</td>\n",
       "      <td>0.2</td>\n",
       "      <td>Up</td>\n",
       "      <td>0</td>\n",
       "    </tr>\n",
       "    <tr>\n",
       "      <th>1</th>\n",
       "      <td>58.0</td>\n",
       "      <td>M</td>\n",
       "      <td>NAP</td>\n",
       "      <td>132.0</td>\n",
       "      <td>224.0</td>\n",
       "      <td>0</td>\n",
       "      <td>LVH</td>\n",
       "      <td>173</td>\n",
       "      <td>N</td>\n",
       "      <td>3.2</td>\n",
       "      <td>Up</td>\n",
       "      <td>1</td>\n",
       "    </tr>\n",
       "    <tr>\n",
       "      <th>2</th>\n",
       "      <td>44.0</td>\n",
       "      <td>M</td>\n",
       "      <td>ATA</td>\n",
       "      <td>150.0</td>\n",
       "      <td>288.0</td>\n",
       "      <td>0</td>\n",
       "      <td>Normal</td>\n",
       "      <td>150</td>\n",
       "      <td>Y</td>\n",
       "      <td>3.0</td>\n",
       "      <td>Flat</td>\n",
       "      <td>1</td>\n",
       "    </tr>\n",
       "    <tr>\n",
       "      <th>3</th>\n",
       "      <td>50.0</td>\n",
       "      <td>M</td>\n",
       "      <td>ASY</td>\n",
       "      <td>144.0</td>\n",
       "      <td>349.0</td>\n",
       "      <td>0</td>\n",
       "      <td>LVH</td>\n",
       "      <td>120</td>\n",
       "      <td>Y</td>\n",
       "      <td>1.0</td>\n",
       "      <td>Up</td>\n",
       "      <td>1</td>\n",
       "    </tr>\n",
       "    <tr>\n",
       "      <th>4</th>\n",
       "      <td>NaN</td>\n",
       "      <td>M</td>\n",
       "      <td>ASY</td>\n",
       "      <td>145.0</td>\n",
       "      <td>248.0</td>\n",
       "      <td>0</td>\n",
       "      <td>Normal</td>\n",
       "      <td>96</td>\n",
       "      <td>Y</td>\n",
       "      <td>2.0</td>\n",
       "      <td>Flat</td>\n",
       "      <td>1</td>\n",
       "    </tr>\n",
       "  </tbody>\n",
       "</table>\n",
       "</div>"
      ],
      "text/plain": [
       "    Age Sex ChestPainType  RestingBP  Cholesterol  FastingBS RestingECG  \\\n",
       "0  74.0   M           NAP      138.0          NaN          0     Normal   \n",
       "1  58.0   M           NAP      132.0        224.0          0        LVH   \n",
       "2  44.0   M           ATA      150.0        288.0          0     Normal   \n",
       "3  50.0   M           ASY      144.0        349.0          0        LVH   \n",
       "4   NaN   M           ASY      145.0        248.0          0     Normal   \n",
       "\n",
       "   MaxHR ExerciseAngina  Oldpeak ST_Slope  HeartDisease  \n",
       "0    116              N      0.2       Up             0  \n",
       "1    173              N      3.2       Up             1  \n",
       "2    150              Y      3.0     Flat             1  \n",
       "3    120              Y      1.0       Up             1  \n",
       "4     96              Y      2.0     Flat             1  "
      ]
     },
     "execution_count": 2,
     "metadata": {},
     "output_type": "execute_result"
    }
   ],
   "source": [
    "data_train = pd.read_csv('heart_adapt_train.csv')\n",
    "data_train.head()"
   ]
  },
  {
   "cell_type": "code",
   "execution_count": 3,
   "metadata": {},
   "outputs": [
    {
     "data": {
      "text/html": [
       "<div>\n",
       "<style scoped>\n",
       "    .dataframe tbody tr th:only-of-type {\n",
       "        vertical-align: middle;\n",
       "    }\n",
       "\n",
       "    .dataframe tbody tr th {\n",
       "        vertical-align: top;\n",
       "    }\n",
       "\n",
       "    .dataframe thead th {\n",
       "        text-align: right;\n",
       "    }\n",
       "</style>\n",
       "<table border=\"1\" class=\"dataframe\">\n",
       "  <thead>\n",
       "    <tr style=\"text-align: right;\">\n",
       "      <th></th>\n",
       "      <th>Age</th>\n",
       "      <th>Sex</th>\n",
       "      <th>ChestPainType</th>\n",
       "      <th>RestingBP</th>\n",
       "      <th>Cholesterol</th>\n",
       "      <th>FastingBS</th>\n",
       "      <th>RestingECG</th>\n",
       "      <th>MaxHR</th>\n",
       "      <th>ExerciseAngina</th>\n",
       "      <th>Oldpeak</th>\n",
       "      <th>ST_Slope</th>\n",
       "      <th>HeartDisease</th>\n",
       "    </tr>\n",
       "  </thead>\n",
       "  <tbody>\n",
       "    <tr>\n",
       "      <th>0</th>\n",
       "      <td>44.0</td>\n",
       "      <td>M</td>\n",
       "      <td>NAP</td>\n",
       "      <td>130.0</td>\n",
       "      <td>233.0</td>\n",
       "      <td>0</td>\n",
       "      <td>Normal</td>\n",
       "      <td>179</td>\n",
       "      <td>Y</td>\n",
       "      <td>0.4</td>\n",
       "      <td>Up</td>\n",
       "      <td>0</td>\n",
       "    </tr>\n",
       "    <tr>\n",
       "      <th>1</th>\n",
       "      <td>63.0</td>\n",
       "      <td>M</td>\n",
       "      <td>ASY</td>\n",
       "      <td>130.0</td>\n",
       "      <td>308.0</td>\n",
       "      <td>0</td>\n",
       "      <td>Normal</td>\n",
       "      <td>138</td>\n",
       "      <td>Y</td>\n",
       "      <td>2.0</td>\n",
       "      <td>Flat</td>\n",
       "      <td>1</td>\n",
       "    </tr>\n",
       "    <tr>\n",
       "      <th>2</th>\n",
       "      <td>35.0</td>\n",
       "      <td>F</td>\n",
       "      <td>TA</td>\n",
       "      <td>120.0</td>\n",
       "      <td>160.0</td>\n",
       "      <td>0</td>\n",
       "      <td>ST</td>\n",
       "      <td>185</td>\n",
       "      <td>N</td>\n",
       "      <td>0.0</td>\n",
       "      <td>Up</td>\n",
       "      <td>0</td>\n",
       "    </tr>\n",
       "    <tr>\n",
       "      <th>3</th>\n",
       "      <td>69.0</td>\n",
       "      <td>M</td>\n",
       "      <td>NAP</td>\n",
       "      <td>140.0</td>\n",
       "      <td>NaN</td>\n",
       "      <td>1</td>\n",
       "      <td>ST</td>\n",
       "      <td>118</td>\n",
       "      <td>N</td>\n",
       "      <td>2.5</td>\n",
       "      <td>Down</td>\n",
       "      <td>1</td>\n",
       "    </tr>\n",
       "    <tr>\n",
       "      <th>4</th>\n",
       "      <td>NaN</td>\n",
       "      <td>M</td>\n",
       "      <td>TA</td>\n",
       "      <td>142.0</td>\n",
       "      <td>200.0</td>\n",
       "      <td>1</td>\n",
       "      <td>ST</td>\n",
       "      <td>100</td>\n",
       "      <td>N</td>\n",
       "      <td>1.5</td>\n",
       "      <td>Down</td>\n",
       "      <td>1</td>\n",
       "    </tr>\n",
       "  </tbody>\n",
       "</table>\n",
       "</div>"
      ],
      "text/plain": [
       "    Age Sex ChestPainType  RestingBP  Cholesterol  FastingBS RestingECG  \\\n",
       "0  44.0   M           NAP      130.0        233.0          0     Normal   \n",
       "1  63.0   M           ASY      130.0        308.0          0     Normal   \n",
       "2  35.0   F            TA      120.0        160.0          0         ST   \n",
       "3  69.0   M           NAP      140.0          NaN          1         ST   \n",
       "4   NaN   M            TA      142.0        200.0          1         ST   \n",
       "\n",
       "   MaxHR ExerciseAngina  Oldpeak ST_Slope  HeartDisease  \n",
       "0    179              Y      0.4       Up             0  \n",
       "1    138              Y      2.0     Flat             1  \n",
       "2    185              N      0.0       Up             0  \n",
       "3    118              N      2.5     Down             1  \n",
       "4    100              N      1.5     Down             1  "
      ]
     },
     "execution_count": 3,
     "metadata": {},
     "output_type": "execute_result"
    }
   ],
   "source": [
    "data_test = pd.read_csv('heart_adapt_test.csv')\n",
    "data_test.head()"
   ]
  },
  {
   "cell_type": "code",
   "execution_count": 4,
   "metadata": {},
   "outputs": [
    {
     "name": "stdout",
     "output_type": "stream",
     "text": [
      "<class 'pandas.core.frame.DataFrame'>\n",
      "RangeIndex: 589 entries, 0 to 588\n",
      "Data columns (total 12 columns):\n",
      " #   Column          Non-Null Count  Dtype  \n",
      "---  ------          --------------  -----  \n",
      " 0   Age             533 non-null    float64\n",
      " 1   Sex             589 non-null    object \n",
      " 2   ChestPainType   589 non-null    object \n",
      " 3   RestingBP       588 non-null    float64\n",
      " 4   Cholesterol     462 non-null    float64\n",
      " 5   FastingBS       589 non-null    int64  \n",
      " 6   RestingECG      589 non-null    object \n",
      " 7   MaxHR           589 non-null    int64  \n",
      " 8   ExerciseAngina  589 non-null    object \n",
      " 9   Oldpeak         589 non-null    float64\n",
      " 10  ST_Slope        589 non-null    object \n",
      " 11  HeartDisease    589 non-null    int64  \n",
      "dtypes: float64(4), int64(3), object(5)\n",
      "memory usage: 55.3+ KB\n"
     ]
    }
   ],
   "source": [
    "data_train.info()"
   ]
  },
  {
   "cell_type": "code",
   "execution_count": 5,
   "metadata": {},
   "outputs": [],
   "source": [
    "data_train['Age'].fillna(data_train['Age'].median(), inplace=True)\n",
    "data_train['Cholesterol'].fillna(data_train['Cholesterol'].median(), inplace=True)\n",
    "data_train['RestingBP'].fillna(data_train['RestingBP'].median(), inplace=True)"
   ]
  },
  {
   "cell_type": "markdown",
   "metadata": {},
   "source": [
    "Отделяем признаки от целевой переменной."
   ]
  },
  {
   "cell_type": "code",
   "execution_count": 6,
   "metadata": {},
   "outputs": [],
   "source": [
    "features_train = data_train.drop(['HeartDisease'], axis=1).copy()\n",
    "target_train = data_train['HeartDisease'].copy()"
   ]
  },
  {
   "cell_type": "code",
   "execution_count": 7,
   "metadata": {},
   "outputs": [],
   "source": [
    "features_test = data_test.drop(['HeartDisease'], axis=1).copy()\n",
    "target_test = data_test['HeartDisease'].copy()"
   ]
  },
  {
   "cell_type": "markdown",
   "metadata": {},
   "source": [
    "Классы сбалансированны?"
   ]
  },
  {
   "cell_type": "code",
   "execution_count": 8,
   "metadata": {},
   "outputs": [
    {
     "data": {
      "text/plain": [
       "1    381\n",
       "0    208\n",
       "Name: HeartDisease, dtype: int64"
      ]
     },
     "execution_count": 8,
     "metadata": {},
     "output_type": "execute_result"
    }
   ],
   "source": [
    "target_train.value_counts()"
   ]
  },
  {
   "cell_type": "markdown",
   "metadata": {},
   "source": [
    "Посмотрим на значения категориальных переменных"
   ]
  },
  {
   "cell_type": "code",
   "execution_count": 9,
   "metadata": {},
   "outputs": [
    {
     "data": {
      "text/plain": [
       "array(['M', 'F'], dtype=object)"
      ]
     },
     "execution_count": 9,
     "metadata": {},
     "output_type": "execute_result"
    }
   ],
   "source": [
    "features_train['Sex'].unique()"
   ]
  },
  {
   "cell_type": "code",
   "execution_count": 10,
   "metadata": {},
   "outputs": [
    {
     "data": {
      "text/plain": [
       "array(['NAP', 'ATA', 'ASY', 'TA'], dtype=object)"
      ]
     },
     "execution_count": 10,
     "metadata": {},
     "output_type": "execute_result"
    }
   ],
   "source": [
    "features_train['ChestPainType'].unique()"
   ]
  },
  {
   "cell_type": "code",
   "execution_count": 11,
   "metadata": {},
   "outputs": [
    {
     "data": {
      "text/plain": [
       "array(['Normal', 'LVH', 'ST'], dtype=object)"
      ]
     },
     "execution_count": 11,
     "metadata": {},
     "output_type": "execute_result"
    }
   ],
   "source": [
    "features_train['RestingECG'].unique()"
   ]
  },
  {
   "cell_type": "code",
   "execution_count": 12,
   "metadata": {},
   "outputs": [
    {
     "data": {
      "text/plain": [
       "array(['N', 'Y'], dtype=object)"
      ]
     },
     "execution_count": 12,
     "metadata": {},
     "output_type": "execute_result"
    }
   ],
   "source": [
    "features_train['ExerciseAngina'].unique()"
   ]
  },
  {
   "cell_type": "code",
   "execution_count": 13,
   "metadata": {},
   "outputs": [
    {
     "data": {
      "text/plain": [
       "array(['Up', 'Flat', 'Down'], dtype=object)"
      ]
     },
     "execution_count": 13,
     "metadata": {},
     "output_type": "execute_result"
    }
   ],
   "source": [
    "features_train['ST_Slope'].unique()"
   ]
  },
  {
   "cell_type": "markdown",
   "metadata": {},
   "source": [
    "Обработаем пропущенные данные"
   ]
  },
  {
   "cell_type": "markdown",
   "metadata": {},
   "source": [
    "Изменим типы столбцов"
   ]
  },
  {
   "cell_type": "code",
   "execution_count": 14,
   "metadata": {},
   "outputs": [],
   "source": [
    "class HeartTypesToFlags(TransformerMixin, BaseEstimator):\n",
    "    def fit(self, X, y=None): \n",
    "        self.types_ChestPainType = sorted(set(X['ChestPainType']))\n",
    "        self.types_RestingECG = sorted(set(X['RestingECG']))\n",
    "        self.types_ST_Slope = sorted(set(X['ST_Slope']))\n",
    "        return self\n",
    "\n",
    "    def transform(self, X):\n",
    "        X = X.reset_index(drop=True)\n",
    "        \n",
    "        # Бинарное кодирование 'Sex' и 'ExerciseAngina'\n",
    "        X['Sex'] = (X['Sex'] == 'M').astype(int)\n",
    "        X['ExerciseAngina'] = (X['ExerciseAngina'] == 'Y').astype(int)\n",
    "        \n",
    "        # Применение one-hot encoding к каждому категориальному признаку\n",
    "        ohe_types_ChestPainType = pd.get_dummies(X['ChestPainType'])\n",
    "        ohe_types_RestingECG = pd.get_dummies(X['RestingECG'])\n",
    "        ohe_types_ST_Slope = pd.get_dummies(X['ST_Slope'])\n",
    "        \n",
    "        # Соединение всех результатов\n",
    "        X = pd.concat([X.drop(['ChestPainType', 'RestingECG', 'ST_Slope'], axis=1),\n",
    "                       ohe_types_ChestPainType, ohe_types_RestingECG, ohe_types_ST_Slope], axis=1)\n",
    "        return X\n"
   ]
  },
  {
   "cell_type": "markdown",
   "metadata": {},
   "source": [
    "Преобразуем тренировочный датасет "
   ]
  },
  {
   "cell_type": "code",
   "execution_count": 15,
   "metadata": {},
   "outputs": [
    {
     "data": {
      "text/html": [
       "<div>\n",
       "<style scoped>\n",
       "    .dataframe tbody tr th:only-of-type {\n",
       "        vertical-align: middle;\n",
       "    }\n",
       "\n",
       "    .dataframe tbody tr th {\n",
       "        vertical-align: top;\n",
       "    }\n",
       "\n",
       "    .dataframe thead th {\n",
       "        text-align: right;\n",
       "    }\n",
       "</style>\n",
       "<table border=\"1\" class=\"dataframe\">\n",
       "  <thead>\n",
       "    <tr style=\"text-align: right;\">\n",
       "      <th></th>\n",
       "      <th>Age</th>\n",
       "      <th>Sex</th>\n",
       "      <th>RestingBP</th>\n",
       "      <th>Cholesterol</th>\n",
       "      <th>FastingBS</th>\n",
       "      <th>MaxHR</th>\n",
       "      <th>ExerciseAngina</th>\n",
       "      <th>Oldpeak</th>\n",
       "      <th>ASY</th>\n",
       "      <th>ATA</th>\n",
       "      <th>NAP</th>\n",
       "      <th>TA</th>\n",
       "      <th>LVH</th>\n",
       "      <th>Normal</th>\n",
       "      <th>ST</th>\n",
       "      <th>Down</th>\n",
       "      <th>Flat</th>\n",
       "      <th>Up</th>\n",
       "    </tr>\n",
       "  </thead>\n",
       "  <tbody>\n",
       "    <tr>\n",
       "      <th>0</th>\n",
       "      <td>74.0</td>\n",
       "      <td>1</td>\n",
       "      <td>138.0</td>\n",
       "      <td>240.0</td>\n",
       "      <td>0</td>\n",
       "      <td>116</td>\n",
       "      <td>0</td>\n",
       "      <td>0.2</td>\n",
       "      <td>0</td>\n",
       "      <td>0</td>\n",
       "      <td>1</td>\n",
       "      <td>0</td>\n",
       "      <td>0</td>\n",
       "      <td>1</td>\n",
       "      <td>0</td>\n",
       "      <td>0</td>\n",
       "      <td>0</td>\n",
       "      <td>1</td>\n",
       "    </tr>\n",
       "    <tr>\n",
       "      <th>1</th>\n",
       "      <td>58.0</td>\n",
       "      <td>1</td>\n",
       "      <td>132.0</td>\n",
       "      <td>224.0</td>\n",
       "      <td>0</td>\n",
       "      <td>173</td>\n",
       "      <td>0</td>\n",
       "      <td>3.2</td>\n",
       "      <td>0</td>\n",
       "      <td>0</td>\n",
       "      <td>1</td>\n",
       "      <td>0</td>\n",
       "      <td>1</td>\n",
       "      <td>0</td>\n",
       "      <td>0</td>\n",
       "      <td>0</td>\n",
       "      <td>0</td>\n",
       "      <td>1</td>\n",
       "    </tr>\n",
       "    <tr>\n",
       "      <th>2</th>\n",
       "      <td>44.0</td>\n",
       "      <td>1</td>\n",
       "      <td>150.0</td>\n",
       "      <td>288.0</td>\n",
       "      <td>0</td>\n",
       "      <td>150</td>\n",
       "      <td>1</td>\n",
       "      <td>3.0</td>\n",
       "      <td>0</td>\n",
       "      <td>1</td>\n",
       "      <td>0</td>\n",
       "      <td>0</td>\n",
       "      <td>0</td>\n",
       "      <td>1</td>\n",
       "      <td>0</td>\n",
       "      <td>0</td>\n",
       "      <td>1</td>\n",
       "      <td>0</td>\n",
       "    </tr>\n",
       "    <tr>\n",
       "      <th>3</th>\n",
       "      <td>50.0</td>\n",
       "      <td>1</td>\n",
       "      <td>144.0</td>\n",
       "      <td>349.0</td>\n",
       "      <td>0</td>\n",
       "      <td>120</td>\n",
       "      <td>1</td>\n",
       "      <td>1.0</td>\n",
       "      <td>1</td>\n",
       "      <td>0</td>\n",
       "      <td>0</td>\n",
       "      <td>0</td>\n",
       "      <td>1</td>\n",
       "      <td>0</td>\n",
       "      <td>0</td>\n",
       "      <td>0</td>\n",
       "      <td>0</td>\n",
       "      <td>1</td>\n",
       "    </tr>\n",
       "    <tr>\n",
       "      <th>4</th>\n",
       "      <td>55.0</td>\n",
       "      <td>1</td>\n",
       "      <td>145.0</td>\n",
       "      <td>248.0</td>\n",
       "      <td>0</td>\n",
       "      <td>96</td>\n",
       "      <td>1</td>\n",
       "      <td>2.0</td>\n",
       "      <td>1</td>\n",
       "      <td>0</td>\n",
       "      <td>0</td>\n",
       "      <td>0</td>\n",
       "      <td>0</td>\n",
       "      <td>1</td>\n",
       "      <td>0</td>\n",
       "      <td>0</td>\n",
       "      <td>1</td>\n",
       "      <td>0</td>\n",
       "    </tr>\n",
       "  </tbody>\n",
       "</table>\n",
       "</div>"
      ],
      "text/plain": [
       "    Age  Sex  RestingBP  Cholesterol  FastingBS  MaxHR  ExerciseAngina  \\\n",
       "0  74.0    1      138.0        240.0          0    116               0   \n",
       "1  58.0    1      132.0        224.0          0    173               0   \n",
       "2  44.0    1      150.0        288.0          0    150               1   \n",
       "3  50.0    1      144.0        349.0          0    120               1   \n",
       "4  55.0    1      145.0        248.0          0     96               1   \n",
       "\n",
       "   Oldpeak  ASY  ATA  NAP  TA  LVH  Normal  ST  Down  Flat  Up  \n",
       "0      0.2    0    0    1   0    0       1   0     0     0   1  \n",
       "1      3.2    0    0    1   0    1       0   0     0     0   1  \n",
       "2      3.0    0    1    0   0    0       1   0     0     1   0  \n",
       "3      1.0    1    0    0   0    1       0   0     0     0   1  \n",
       "4      2.0    1    0    0   0    0       1   0     0     1   0  "
      ]
     },
     "execution_count": 15,
     "metadata": {},
     "output_type": "execute_result"
    }
   ],
   "source": [
    "httf = HeartTypesToFlags()\n",
    "httf.fit(features_train)\n",
    "features_train_httf = httf.transform(features_train)\n",
    "features_train_httf.head()"
   ]
  },
  {
   "cell_type": "markdown",
   "metadata": {},
   "source": [
    "Отмасштабируем признаки"
   ]
  },
  {
   "cell_type": "code",
   "execution_count": 16,
   "metadata": {},
   "outputs": [
    {
     "data": {
      "text/html": [
       "<div>\n",
       "<style scoped>\n",
       "    .dataframe tbody tr th:only-of-type {\n",
       "        vertical-align: middle;\n",
       "    }\n",
       "\n",
       "    .dataframe tbody tr th {\n",
       "        vertical-align: top;\n",
       "    }\n",
       "\n",
       "    .dataframe thead th {\n",
       "        text-align: right;\n",
       "    }\n",
       "</style>\n",
       "<table border=\"1\" class=\"dataframe\">\n",
       "  <thead>\n",
       "    <tr style=\"text-align: right;\">\n",
       "      <th></th>\n",
       "      <th>Age</th>\n",
       "      <th>Sex</th>\n",
       "      <th>RestingBP</th>\n",
       "      <th>Cholesterol</th>\n",
       "      <th>FastingBS</th>\n",
       "      <th>MaxHR</th>\n",
       "      <th>ExerciseAngina</th>\n",
       "      <th>Oldpeak</th>\n",
       "      <th>ASY</th>\n",
       "      <th>ATA</th>\n",
       "      <th>NAP</th>\n",
       "      <th>TA</th>\n",
       "      <th>LVH</th>\n",
       "      <th>Normal</th>\n",
       "      <th>ST</th>\n",
       "      <th>Down</th>\n",
       "      <th>Flat</th>\n",
       "      <th>Up</th>\n",
       "    </tr>\n",
       "  </thead>\n",
       "  <tbody>\n",
       "    <tr>\n",
       "      <th>0</th>\n",
       "      <td>2.176863</td>\n",
       "      <td>0.484563</td>\n",
       "      <td>0.246906</td>\n",
       "      <td>-0.085128</td>\n",
       "      <td>-0.589768</td>\n",
       "      <td>-0.758105</td>\n",
       "      <td>-0.901281</td>\n",
       "      <td>-0.689009</td>\n",
       "      <td>-1.201659</td>\n",
       "      <td>-0.441278</td>\n",
       "      <td>2.008529</td>\n",
       "      <td>-0.223407</td>\n",
       "      <td>-0.521669</td>\n",
       "      <td>0.840979</td>\n",
       "      <td>-0.500531</td>\n",
       "      <td>-0.269925</td>\n",
       "      <td>-1.109532</td>\n",
       "      <td>1.276505</td>\n",
       "    </tr>\n",
       "    <tr>\n",
       "      <th>1</th>\n",
       "      <td>0.411393</td>\n",
       "      <td>0.484563</td>\n",
       "      <td>-0.071898</td>\n",
       "      <td>-0.393449</td>\n",
       "      <td>-0.589768</td>\n",
       "      <td>1.529085</td>\n",
       "      <td>-0.901281</td>\n",
       "      <td>2.113660</td>\n",
       "      <td>-1.201659</td>\n",
       "      <td>-0.441278</td>\n",
       "      <td>2.008529</td>\n",
       "      <td>-0.223407</td>\n",
       "      <td>1.916925</td>\n",
       "      <td>-1.189090</td>\n",
       "      <td>-0.500531</td>\n",
       "      <td>-0.269925</td>\n",
       "      <td>-1.109532</td>\n",
       "      <td>1.276505</td>\n",
       "    </tr>\n",
       "    <tr>\n",
       "      <th>2</th>\n",
       "      <td>-1.133393</td>\n",
       "      <td>0.484563</td>\n",
       "      <td>0.884515</td>\n",
       "      <td>0.839833</td>\n",
       "      <td>-0.589768</td>\n",
       "      <td>0.606184</td>\n",
       "      <td>1.109532</td>\n",
       "      <td>1.926815</td>\n",
       "      <td>-1.201659</td>\n",
       "      <td>2.266146</td>\n",
       "      <td>-0.497877</td>\n",
       "      <td>-0.223407</td>\n",
       "      <td>-0.521669</td>\n",
       "      <td>0.840979</td>\n",
       "      <td>-0.500531</td>\n",
       "      <td>-0.269925</td>\n",
       "      <td>0.901281</td>\n",
       "      <td>-0.783389</td>\n",
       "    </tr>\n",
       "    <tr>\n",
       "      <th>3</th>\n",
       "      <td>-0.471341</td>\n",
       "      <td>0.484563</td>\n",
       "      <td>0.565711</td>\n",
       "      <td>2.015306</td>\n",
       "      <td>-0.589768</td>\n",
       "      <td>-0.597600</td>\n",
       "      <td>1.109532</td>\n",
       "      <td>0.058369</td>\n",
       "      <td>0.832183</td>\n",
       "      <td>-0.441278</td>\n",
       "      <td>-0.497877</td>\n",
       "      <td>-0.223407</td>\n",
       "      <td>1.916925</td>\n",
       "      <td>-1.189090</td>\n",
       "      <td>-0.500531</td>\n",
       "      <td>-0.269925</td>\n",
       "      <td>-1.109532</td>\n",
       "      <td>1.276505</td>\n",
       "    </tr>\n",
       "    <tr>\n",
       "      <th>4</th>\n",
       "      <td>0.080368</td>\n",
       "      <td>0.484563</td>\n",
       "      <td>0.618845</td>\n",
       "      <td>0.069032</td>\n",
       "      <td>-0.589768</td>\n",
       "      <td>-1.560627</td>\n",
       "      <td>1.109532</td>\n",
       "      <td>0.992592</td>\n",
       "      <td>0.832183</td>\n",
       "      <td>-0.441278</td>\n",
       "      <td>-0.497877</td>\n",
       "      <td>-0.223407</td>\n",
       "      <td>-0.521669</td>\n",
       "      <td>0.840979</td>\n",
       "      <td>-0.500531</td>\n",
       "      <td>-0.269925</td>\n",
       "      <td>0.901281</td>\n",
       "      <td>-0.783389</td>\n",
       "    </tr>\n",
       "  </tbody>\n",
       "</table>\n",
       "</div>"
      ],
      "text/plain": [
       "        Age       Sex  RestingBP  Cholesterol  FastingBS     MaxHR  \\\n",
       "0  2.176863  0.484563   0.246906    -0.085128  -0.589768 -0.758105   \n",
       "1  0.411393  0.484563  -0.071898    -0.393449  -0.589768  1.529085   \n",
       "2 -1.133393  0.484563   0.884515     0.839833  -0.589768  0.606184   \n",
       "3 -0.471341  0.484563   0.565711     2.015306  -0.589768 -0.597600   \n",
       "4  0.080368  0.484563   0.618845     0.069032  -0.589768 -1.560627   \n",
       "\n",
       "   ExerciseAngina   Oldpeak       ASY       ATA       NAP        TA       LVH  \\\n",
       "0       -0.901281 -0.689009 -1.201659 -0.441278  2.008529 -0.223407 -0.521669   \n",
       "1       -0.901281  2.113660 -1.201659 -0.441278  2.008529 -0.223407  1.916925   \n",
       "2        1.109532  1.926815 -1.201659  2.266146 -0.497877 -0.223407 -0.521669   \n",
       "3        1.109532  0.058369  0.832183 -0.441278 -0.497877 -0.223407  1.916925   \n",
       "4        1.109532  0.992592  0.832183 -0.441278 -0.497877 -0.223407 -0.521669   \n",
       "\n",
       "     Normal        ST      Down      Flat        Up  \n",
       "0  0.840979 -0.500531 -0.269925 -1.109532  1.276505  \n",
       "1 -1.189090 -0.500531 -0.269925 -1.109532  1.276505  \n",
       "2  0.840979 -0.500531 -0.269925  0.901281 -0.783389  \n",
       "3 -1.189090 -0.500531 -0.269925 -1.109532  1.276505  \n",
       "4  0.840979 -0.500531 -0.269925  0.901281 -0.783389  "
      ]
     },
     "execution_count": 16,
     "metadata": {},
     "output_type": "execute_result"
    }
   ],
   "source": [
    "scaler = StandardScaler()\n",
    "scaler.fit(features_train_httf)\n",
    "features_train_httf_scaled = pd.DataFrame(scaler.transform(features_train_httf), columns=scaler.feature_names_in_)\n",
    "features_train_httf_scaled.head()"
   ]
  },
  {
   "cell_type": "markdown",
   "metadata": {},
   "source": [
    "Построим простой классификатор с помощью полученных признаков и оценим его качество"
   ]
  },
  {
   "cell_type": "code",
   "execution_count": 17,
   "metadata": {},
   "outputs": [
    {
     "name": "stdout",
     "output_type": "stream",
     "text": [
      "Качество модели на обучающей выборке: {1.0}\n"
     ]
    }
   ],
   "source": [
    "model = DecisionTreeClassifier(random_state=0, class_weight='balanced')\n",
    "model.fit(features_train_httf_scaled, target_train)\n",
    "print('Качество модели на обучающей выборке:', {roc_auc_score(target_train, model.predict_proba(features_train_httf_scaled)[:, 1])})"
   ]
  },
  {
   "cell_type": "markdown",
   "metadata": {},
   "source": [
    "Подготовим конвейнер, чтобы можно было запустить все эти трансформеры последовательно одной командой"
   ]
  },
  {
   "cell_type": "code",
   "execution_count": 18,
   "metadata": {},
   "outputs": [],
   "source": [
    "pipe = Pipeline([\n",
    "    ('ohe_types', HeartTypesToFlags()),\n",
    "    ('imputer', SimpleImputer(strategy='median')),\n",
    "    ('scaler', StandardScaler()),\n",
    "    ('classify', DecisionTreeClassifier(random_state=0, class_weight='balanced'))\n",
    "])"
   ]
  },
  {
   "cell_type": "markdown",
   "metadata": {},
   "source": [
    "Настраиваем трансформеры однократно на исходной обучающей выборке и проверяем, что они работают, как ожидается."
   ]
  },
  {
   "cell_type": "code",
   "execution_count": 19,
   "metadata": {},
   "outputs": [
    {
     "name": "stdout",
     "output_type": "stream",
     "text": [
      "Качество модели на обучающей выборке: {1.0}\n"
     ]
    }
   ],
   "source": [
    "pipe.fit(X=features_train, y=target_train)\n",
    "print('Качество модели на обучающей выборке:', {roc_auc_score(target_train, pipe.predict_proba(features_train)[:, 1])})"
   ]
  },
  {
   "cell_type": "markdown",
   "metadata": {},
   "source": [
    "Проверим качество на тестовой части"
   ]
  },
  {
   "cell_type": "code",
   "execution_count": 20,
   "metadata": {},
   "outputs": [
    {
     "name": "stdout",
     "output_type": "stream",
     "text": [
      "Качество модели на тестовой выборке: {0.8037682789651294}\n"
     ]
    }
   ],
   "source": [
    "print('Качество модели на тестовой выборке:', {roc_auc_score(target_test, pipe.predict_proba(features_test)[:, 1])})"
   ]
  },
  {
   "cell_type": "code",
   "execution_count": 21,
   "metadata": {},
   "outputs": [
    {
     "data": {
      "text/plain": [
       "14"
      ]
     },
     "execution_count": 21,
     "metadata": {},
     "output_type": "execute_result"
    }
   ],
   "source": [
    "pipe['classify'].tree_.max_depth"
   ]
  },
  {
   "cell_type": "markdown",
   "metadata": {},
   "source": [
    "Переберем несколько вариантов, с помощью кросс-валидации, чтобы улучшить качество на тестовой выборке"
   ]
  },
  {
   "cell_type": "code",
   "execution_count": 22,
   "metadata": {},
   "outputs": [
    {
     "name": "stdout",
     "output_type": "stream",
     "text": [
      "Качество модели на тестовой выборке c лучшей моделью: {0.9098425196850393}\n"
     ]
    }
   ],
   "source": [
    "pipe = Pipeline([  \n",
    "    ('ohe_types', HeartTypesToFlags()),\n",
    "    ('imputer', SimpleImputer(strategy='median')),\n",
    "    ('scaler', StandardScaler()),\n",
    "    ('classify', DecisionTreeClassifier(random_state=0, class_weight='balanced'))\n",
    "])\n",
    "\n",
    "params = [\n",
    "    {'classify': [LogisticRegression(class_weight='balanced', random_state=0)]}, \n",
    "    {'classify': [DecisionTreeClassifier(class_weight='balanced', random_state=0)], 'classify__max_depth': [2, 5, 10, 20]},\n",
    "    {'classify': [RandomForestClassifier(class_weight='balanced', random_state=0)], 'classify__n_estimators': [50, 100, 200]},\n",
    "    {'classify': [GradientBoostingClassifier(random_state=0)], 'classify__n_estimators': [50, 100, 200], 'classify__learning_rate': [0.01, 0.1, 0.2]}\n",
    "]\n",
    "\n",
    "grid_search = GridSearchCV(pipe, param_grid=params, cv=5, scoring='roc_auc')\n",
    "grid_search.fit(X=features_train, y=target_train)\n",
    "print(\n",
    "    'Качество модели на тестовой выборке c лучшей моделью:', \n",
    "    {roc_auc_score(target_test, grid_search.predict_proba(features_test)[:, 1])}\n",
    ")"
   ]
  },
  {
   "cell_type": "code",
   "execution_count": 23,
   "metadata": {},
   "outputs": [
    {
     "data": {
      "text/html": [
       "<style>#sk-container-id-1 {color: black;background-color: white;}#sk-container-id-1 pre{padding: 0;}#sk-container-id-1 div.sk-toggleable {background-color: white;}#sk-container-id-1 label.sk-toggleable__label {cursor: pointer;display: block;width: 100%;margin-bottom: 0;padding: 0.3em;box-sizing: border-box;text-align: center;}#sk-container-id-1 label.sk-toggleable__label-arrow:before {content: \"▸\";float: left;margin-right: 0.25em;color: #696969;}#sk-container-id-1 label.sk-toggleable__label-arrow:hover:before {color: black;}#sk-container-id-1 div.sk-estimator:hover label.sk-toggleable__label-arrow:before {color: black;}#sk-container-id-1 div.sk-toggleable__content {max-height: 0;max-width: 0;overflow: hidden;text-align: left;background-color: #f0f8ff;}#sk-container-id-1 div.sk-toggleable__content pre {margin: 0.2em;color: black;border-radius: 0.25em;background-color: #f0f8ff;}#sk-container-id-1 input.sk-toggleable__control:checked~div.sk-toggleable__content {max-height: 200px;max-width: 100%;overflow: auto;}#sk-container-id-1 input.sk-toggleable__control:checked~label.sk-toggleable__label-arrow:before {content: \"▾\";}#sk-container-id-1 div.sk-estimator input.sk-toggleable__control:checked~label.sk-toggleable__label {background-color: #d4ebff;}#sk-container-id-1 div.sk-label input.sk-toggleable__control:checked~label.sk-toggleable__label {background-color: #d4ebff;}#sk-container-id-1 input.sk-hidden--visually {border: 0;clip: rect(1px 1px 1px 1px);clip: rect(1px, 1px, 1px, 1px);height: 1px;margin: -1px;overflow: hidden;padding: 0;position: absolute;width: 1px;}#sk-container-id-1 div.sk-estimator {font-family: monospace;background-color: #f0f8ff;border: 1px dotted black;border-radius: 0.25em;box-sizing: border-box;margin-bottom: 0.5em;}#sk-container-id-1 div.sk-estimator:hover {background-color: #d4ebff;}#sk-container-id-1 div.sk-parallel-item::after {content: \"\";width: 100%;border-bottom: 1px solid gray;flex-grow: 1;}#sk-container-id-1 div.sk-label:hover label.sk-toggleable__label {background-color: #d4ebff;}#sk-container-id-1 div.sk-serial::before {content: \"\";position: absolute;border-left: 1px solid gray;box-sizing: border-box;top: 0;bottom: 0;left: 50%;z-index: 0;}#sk-container-id-1 div.sk-serial {display: flex;flex-direction: column;align-items: center;background-color: white;padding-right: 0.2em;padding-left: 0.2em;position: relative;}#sk-container-id-1 div.sk-item {position: relative;z-index: 1;}#sk-container-id-1 div.sk-parallel {display: flex;align-items: stretch;justify-content: center;background-color: white;position: relative;}#sk-container-id-1 div.sk-item::before, #sk-container-id-1 div.sk-parallel-item::before {content: \"\";position: absolute;border-left: 1px solid gray;box-sizing: border-box;top: 0;bottom: 0;left: 50%;z-index: -1;}#sk-container-id-1 div.sk-parallel-item {display: flex;flex-direction: column;z-index: 1;position: relative;background-color: white;}#sk-container-id-1 div.sk-parallel-item:first-child::after {align-self: flex-end;width: 50%;}#sk-container-id-1 div.sk-parallel-item:last-child::after {align-self: flex-start;width: 50%;}#sk-container-id-1 div.sk-parallel-item:only-child::after {width: 0;}#sk-container-id-1 div.sk-dashed-wrapped {border: 1px dashed gray;margin: 0 0.4em 0.5em 0.4em;box-sizing: border-box;padding-bottom: 0.4em;background-color: white;}#sk-container-id-1 div.sk-label label {font-family: monospace;font-weight: bold;display: inline-block;line-height: 1.2em;}#sk-container-id-1 div.sk-label-container {text-align: center;}#sk-container-id-1 div.sk-container {/* jupyter's `normalize.less` sets `[hidden] { display: none; }` but bootstrap.min.css set `[hidden] { display: none !important; }` so we also need the `!important` here to be able to override the default hidden behavior on the sphinx rendered scikit-learn.org. See: https://github.com/scikit-learn/scikit-learn/issues/21755 */display: inline-block !important;position: relative;}#sk-container-id-1 div.sk-text-repr-fallback {display: none;}</style><div id=\"sk-container-id-1\" class=\"sk-top-container\"><div class=\"sk-text-repr-fallback\"><pre>Pipeline(steps=[(&#x27;ohe_types&#x27;, HeartTypesToFlags()),\n",
       "                (&#x27;imputer&#x27;, SimpleImputer(strategy=&#x27;median&#x27;)),\n",
       "                (&#x27;scaler&#x27;, StandardScaler()),\n",
       "                (&#x27;classify&#x27;,\n",
       "                 RandomForestClassifier(class_weight=&#x27;balanced&#x27;,\n",
       "                                        n_estimators=50, random_state=0))])</pre><b>In a Jupyter environment, please rerun this cell to show the HTML representation or trust the notebook. <br />On GitHub, the HTML representation is unable to render, please try loading this page with nbviewer.org.</b></div><div class=\"sk-container\" hidden><div class=\"sk-item sk-dashed-wrapped\"><div class=\"sk-label-container\"><div class=\"sk-label sk-toggleable\"><input class=\"sk-toggleable__control sk-hidden--visually\" id=\"sk-estimator-id-1\" type=\"checkbox\" ><label for=\"sk-estimator-id-1\" class=\"sk-toggleable__label sk-toggleable__label-arrow\">Pipeline</label><div class=\"sk-toggleable__content\"><pre>Pipeline(steps=[(&#x27;ohe_types&#x27;, HeartTypesToFlags()),\n",
       "                (&#x27;imputer&#x27;, SimpleImputer(strategy=&#x27;median&#x27;)),\n",
       "                (&#x27;scaler&#x27;, StandardScaler()),\n",
       "                (&#x27;classify&#x27;,\n",
       "                 RandomForestClassifier(class_weight=&#x27;balanced&#x27;,\n",
       "                                        n_estimators=50, random_state=0))])</pre></div></div></div><div class=\"sk-serial\"><div class=\"sk-item\"><div class=\"sk-estimator sk-toggleable\"><input class=\"sk-toggleable__control sk-hidden--visually\" id=\"sk-estimator-id-2\" type=\"checkbox\" ><label for=\"sk-estimator-id-2\" class=\"sk-toggleable__label sk-toggleable__label-arrow\">HeartTypesToFlags</label><div class=\"sk-toggleable__content\"><pre>HeartTypesToFlags()</pre></div></div></div><div class=\"sk-item\"><div class=\"sk-estimator sk-toggleable\"><input class=\"sk-toggleable__control sk-hidden--visually\" id=\"sk-estimator-id-3\" type=\"checkbox\" ><label for=\"sk-estimator-id-3\" class=\"sk-toggleable__label sk-toggleable__label-arrow\">SimpleImputer</label><div class=\"sk-toggleable__content\"><pre>SimpleImputer(strategy=&#x27;median&#x27;)</pre></div></div></div><div class=\"sk-item\"><div class=\"sk-estimator sk-toggleable\"><input class=\"sk-toggleable__control sk-hidden--visually\" id=\"sk-estimator-id-4\" type=\"checkbox\" ><label for=\"sk-estimator-id-4\" class=\"sk-toggleable__label sk-toggleable__label-arrow\">StandardScaler</label><div class=\"sk-toggleable__content\"><pre>StandardScaler()</pre></div></div></div><div class=\"sk-item\"><div class=\"sk-estimator sk-toggleable\"><input class=\"sk-toggleable__control sk-hidden--visually\" id=\"sk-estimator-id-5\" type=\"checkbox\" ><label for=\"sk-estimator-id-5\" class=\"sk-toggleable__label sk-toggleable__label-arrow\">RandomForestClassifier</label><div class=\"sk-toggleable__content\"><pre>RandomForestClassifier(class_weight=&#x27;balanced&#x27;, n_estimators=50, random_state=0)</pre></div></div></div></div></div></div></div>"
      ],
      "text/plain": [
       "Pipeline(steps=[('ohe_types', HeartTypesToFlags()),\n",
       "                ('imputer', SimpleImputer(strategy='median')),\n",
       "                ('scaler', StandardScaler()),\n",
       "                ('classify',\n",
       "                 RandomForestClassifier(class_weight='balanced',\n",
       "                                        n_estimators=50, random_state=0))])"
      ]
     },
     "execution_count": 23,
     "metadata": {},
     "output_type": "execute_result"
    }
   ],
   "source": [
    "grid_search.best_estimator_"
   ]
  },
  {
   "cell_type": "markdown",
   "metadata": {},
   "source": [
    "### Оборачивание модели в сервис API"
   ]
  },
  {
   "cell_type": "markdown",
   "metadata": {},
   "source": [
    "Сериализуем (консервируем) модель"
   ]
  },
  {
   "cell_type": "code",
   "execution_count": 24,
   "metadata": {},
   "outputs": [],
   "source": [
    "with open('best_heart_disease_model.pk', 'wb') as file:\n",
    "    pickle.dump(grid_search, file)"
   ]
  },
  {
   "cell_type": "markdown",
   "metadata": {},
   "source": [
    "Десериализуем ее, чтобы убедиться, что она правильно работает"
   ]
  },
  {
   "cell_type": "code",
   "execution_count": 25,
   "metadata": {},
   "outputs": [],
   "source": [
    "with open('best_heart_disease_model.pk','rb') as f:\n",
    "    loaded_model = pickle.load(f)"
   ]
  },
  {
   "cell_type": "code",
   "execution_count": 26,
   "metadata": {},
   "outputs": [
    {
     "name": "stdout",
     "output_type": "stream",
     "text": [
      "Качество модели на тестовой выборке от законсервированной модели: {0.9098425196850393}\n"
     ]
    }
   ],
   "source": [
    "print(\n",
    "    'Качество модели на тестовой выборке от законсервированной модели:', \n",
    "    {roc_auc_score(target_test, loaded_model.predict_proba(features_test)[:, 1])}\n",
    ")"
   ]
  },
  {
   "cell_type": "markdown",
   "metadata": {},
   "source": [
    "Функцию-обертку реализуем в отдельном файле best_heart_disease_service.py"
   ]
  },
  {
   "cell_type": "markdown",
   "metadata": {},
   "source": [
    "Чтобы запустить API, нужно в терминале перейти в папку с кодом сервиса и ввести ```waitress-serve --host=0.0.0.0 --port=8000 best_heart_disease_service:app```  \n",
    "Если ошибка ```Connection in use: ('0.0.0.0', 8000)```\n",
    "- то либо делаем ```kill <номер, который у процесса, который занял порт>```\n",
    "- либо пробуем вместо 8000 другой"
   ]
  },
  {
   "cell_type": "markdown",
   "metadata": {},
   "source": [
    "После запуска API, можно им пользоваться "
   ]
  },
  {
   "cell_type": "code",
   "execution_count": 37,
   "metadata": {},
   "outputs": [
    {
     "data": {
      "text/html": [
       "<div>\n",
       "<style scoped>\n",
       "    .dataframe tbody tr th:only-of-type {\n",
       "        vertical-align: middle;\n",
       "    }\n",
       "\n",
       "    .dataframe tbody tr th {\n",
       "        vertical-align: top;\n",
       "    }\n",
       "\n",
       "    .dataframe thead th {\n",
       "        text-align: right;\n",
       "    }\n",
       "</style>\n",
       "<table border=\"1\" class=\"dataframe\">\n",
       "  <thead>\n",
       "    <tr style=\"text-align: right;\">\n",
       "      <th></th>\n",
       "      <th>Age</th>\n",
       "      <th>Sex</th>\n",
       "      <th>ChestPainType</th>\n",
       "      <th>RestingBP</th>\n",
       "      <th>Cholesterol</th>\n",
       "      <th>FastingBS</th>\n",
       "      <th>RestingECG</th>\n",
       "      <th>MaxHR</th>\n",
       "      <th>ExerciseAngina</th>\n",
       "      <th>Oldpeak</th>\n",
       "      <th>ST_Slope</th>\n",
       "    </tr>\n",
       "  </thead>\n",
       "  <tbody>\n",
       "    <tr>\n",
       "      <th>0</th>\n",
       "      <td>44.0</td>\n",
       "      <td>M</td>\n",
       "      <td>NAP</td>\n",
       "      <td>130.0</td>\n",
       "      <td>233.0</td>\n",
       "      <td>0</td>\n",
       "      <td>Normal</td>\n",
       "      <td>179</td>\n",
       "      <td>Y</td>\n",
       "      <td>0.4</td>\n",
       "      <td>Up</td>\n",
       "    </tr>\n",
       "    <tr>\n",
       "      <th>1</th>\n",
       "      <td>63.0</td>\n",
       "      <td>M</td>\n",
       "      <td>ASY</td>\n",
       "      <td>130.0</td>\n",
       "      <td>308.0</td>\n",
       "      <td>0</td>\n",
       "      <td>Normal</td>\n",
       "      <td>138</td>\n",
       "      <td>Y</td>\n",
       "      <td>2.0</td>\n",
       "      <td>Flat</td>\n",
       "    </tr>\n",
       "    <tr>\n",
       "      <th>2</th>\n",
       "      <td>35.0</td>\n",
       "      <td>F</td>\n",
       "      <td>TA</td>\n",
       "      <td>120.0</td>\n",
       "      <td>160.0</td>\n",
       "      <td>0</td>\n",
       "      <td>ST</td>\n",
       "      <td>185</td>\n",
       "      <td>N</td>\n",
       "      <td>0.0</td>\n",
       "      <td>Up</td>\n",
       "    </tr>\n",
       "    <tr>\n",
       "      <th>3</th>\n",
       "      <td>69.0</td>\n",
       "      <td>M</td>\n",
       "      <td>NAP</td>\n",
       "      <td>140.0</td>\n",
       "      <td>NaN</td>\n",
       "      <td>1</td>\n",
       "      <td>ST</td>\n",
       "      <td>118</td>\n",
       "      <td>N</td>\n",
       "      <td>2.5</td>\n",
       "      <td>Down</td>\n",
       "    </tr>\n",
       "    <tr>\n",
       "      <th>4</th>\n",
       "      <td>NaN</td>\n",
       "      <td>M</td>\n",
       "      <td>TA</td>\n",
       "      <td>142.0</td>\n",
       "      <td>200.0</td>\n",
       "      <td>1</td>\n",
       "      <td>ST</td>\n",
       "      <td>100</td>\n",
       "      <td>N</td>\n",
       "      <td>1.5</td>\n",
       "      <td>Down</td>\n",
       "    </tr>\n",
       "    <tr>\n",
       "      <th>...</th>\n",
       "      <td>...</td>\n",
       "      <td>...</td>\n",
       "      <td>...</td>\n",
       "      <td>...</td>\n",
       "      <td>...</td>\n",
       "      <td>...</td>\n",
       "      <td>...</td>\n",
       "      <td>...</td>\n",
       "      <td>...</td>\n",
       "      <td>...</td>\n",
       "      <td>...</td>\n",
       "    </tr>\n",
       "    <tr>\n",
       "      <th>192</th>\n",
       "      <td>38.0</td>\n",
       "      <td>M</td>\n",
       "      <td>ATA</td>\n",
       "      <td>140.0</td>\n",
       "      <td>297.0</td>\n",
       "      <td>0</td>\n",
       "      <td>Normal</td>\n",
       "      <td>150</td>\n",
       "      <td>N</td>\n",
       "      <td>0.0</td>\n",
       "      <td>Up</td>\n",
       "    </tr>\n",
       "    <tr>\n",
       "      <th>193</th>\n",
       "      <td>63.0</td>\n",
       "      <td>M</td>\n",
       "      <td>TA</td>\n",
       "      <td>145.0</td>\n",
       "      <td>233.0</td>\n",
       "      <td>1</td>\n",
       "      <td>LVH</td>\n",
       "      <td>150</td>\n",
       "      <td>N</td>\n",
       "      <td>2.3</td>\n",
       "      <td>Down</td>\n",
       "    </tr>\n",
       "    <tr>\n",
       "      <th>194</th>\n",
       "      <td>51.0</td>\n",
       "      <td>F</td>\n",
       "      <td>NAP</td>\n",
       "      <td>140.0</td>\n",
       "      <td>308.0</td>\n",
       "      <td>0</td>\n",
       "      <td>LVH</td>\n",
       "      <td>142</td>\n",
       "      <td>N</td>\n",
       "      <td>1.5</td>\n",
       "      <td>Up</td>\n",
       "    </tr>\n",
       "    <tr>\n",
       "      <th>195</th>\n",
       "      <td>53.0</td>\n",
       "      <td>M</td>\n",
       "      <td>ASY</td>\n",
       "      <td>125.0</td>\n",
       "      <td>NaN</td>\n",
       "      <td>1</td>\n",
       "      <td>Normal</td>\n",
       "      <td>120</td>\n",
       "      <td>N</td>\n",
       "      <td>1.5</td>\n",
       "      <td>Up</td>\n",
       "    </tr>\n",
       "    <tr>\n",
       "      <th>196</th>\n",
       "      <td>62.0</td>\n",
       "      <td>F</td>\n",
       "      <td>ASY</td>\n",
       "      <td>160.0</td>\n",
       "      <td>164.0</td>\n",
       "      <td>0</td>\n",
       "      <td>LVH</td>\n",
       "      <td>145</td>\n",
       "      <td>N</td>\n",
       "      <td>6.2</td>\n",
       "      <td>Down</td>\n",
       "    </tr>\n",
       "  </tbody>\n",
       "</table>\n",
       "<p>197 rows × 11 columns</p>\n",
       "</div>"
      ],
      "text/plain": [
       "      Age Sex ChestPainType  RestingBP  Cholesterol  FastingBS RestingECG  \\\n",
       "0    44.0   M           NAP      130.0        233.0          0     Normal   \n",
       "1    63.0   M           ASY      130.0        308.0          0     Normal   \n",
       "2    35.0   F            TA      120.0        160.0          0         ST   \n",
       "3    69.0   M           NAP      140.0          NaN          1         ST   \n",
       "4     NaN   M            TA      142.0        200.0          1         ST   \n",
       "..    ...  ..           ...        ...          ...        ...        ...   \n",
       "192  38.0   M           ATA      140.0        297.0          0     Normal   \n",
       "193  63.0   M            TA      145.0        233.0          1        LVH   \n",
       "194  51.0   F           NAP      140.0        308.0          0        LVH   \n",
       "195  53.0   M           ASY      125.0          NaN          1     Normal   \n",
       "196  62.0   F           ASY      160.0        164.0          0        LVH   \n",
       "\n",
       "     MaxHR ExerciseAngina  Oldpeak ST_Slope  \n",
       "0      179              Y      0.4       Up  \n",
       "1      138              Y      2.0     Flat  \n",
       "2      185              N      0.0       Up  \n",
       "3      118              N      2.5     Down  \n",
       "4      100              N      1.5     Down  \n",
       "..     ...            ...      ...      ...  \n",
       "192    150              N      0.0       Up  \n",
       "193    150              N      2.3     Down  \n",
       "194    142              N      1.5       Up  \n",
       "195    120              N      1.5       Up  \n",
       "196    145              N      6.2     Down  \n",
       "\n",
       "[197 rows x 11 columns]"
      ]
     },
     "execution_count": 37,
     "metadata": {},
     "output_type": "execute_result"
    }
   ],
   "source": [
    "features_test"
   ]
  },
  {
   "cell_type": "code",
   "execution_count": 34,
   "metadata": {},
   "outputs": [],
   "source": [
    "header = {\n",
    "    'Content-Type': 'application/json',\n",
    "    'Accept': 'application/json'\n",
    "}\n",
    "\n",
    "resp = requests.post(\n",
    "    \"http://127.0.0.1:8000/predict\", \n",
    "    data=json.dumps(features_test.to_json(orient='records')),\n",
    "    headers=header\n",
    ")"
   ]
  },
  {
   "cell_type": "code",
   "execution_count": 35,
   "metadata": {},
   "outputs": [
    {
     "data": {
      "text/plain": [
       "200"
      ]
     },
     "execution_count": 35,
     "metadata": {},
     "output_type": "execute_result"
    }
   ],
   "source": [
    "resp.status_code"
   ]
  },
  {
   "cell_type": "code",
   "execution_count": 36,
   "metadata": {},
   "outputs": [
    {
     "name": "stdout",
     "output_type": "stream",
     "text": [
      "Качество модели на тестовой выборке от модели в API: {0.9098425196850393}\n"
     ]
    }
   ],
   "source": [
    "print(\n",
    "    'Качество модели на тестовой выборке от модели в API:', \n",
    "    {roc_auc_score(target_test, pd.read_json(resp.json()['predictions']))}\n",
    ")"
   ]
  }
 ],
 "metadata": {
  "kernelspec": {
   "display_name": "base",
   "language": "python",
   "name": "python3"
  },
  "language_info": {
   "codemirror_mode": {
    "name": "ipython",
    "version": 3
   },
   "file_extension": ".py",
   "mimetype": "text/x-python",
   "name": "python",
   "nbconvert_exporter": "python",
   "pygments_lexer": "ipython3",
   "version": "3.10.9"
  }
 },
 "nbformat": 4,
 "nbformat_minor": 2
}
